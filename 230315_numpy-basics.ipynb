{
 "cells": [
  {
   "attachments": {},
   "cell_type": "markdown",
   "metadata": {},
   "source": [
    "### ndarray\n",
    "Remark\n",
    "- 행 == `row`\n",
    "- 열 == `col` (column)\n",
    "- 차원 == `dim` (dimension)\n",
    "\n",
    "ndarray 정보 확인\n",
    "- 행렬 크기: `.shape`\n",
    "- 원소 데이터타입: `.dtype`\n",
    "- 행렬 차원: `.ndim`"
   ]
  },
  {
   "cell_type": "code",
   "execution_count": null,
   "metadata": {},
   "outputs": [],
   "source": [
    "import numpy as np\n",
    "\n",
    "\"\"\"\n",
    "    create ndarray\n",
    "\"\"\"\n",
    "lst = [[1, 2, 3, 4, 5], [5, 4, 3, 2, 1]]\n",
    "d1 = np.array(lst)      # create with a primitive list\n",
    "d2 = np.zeros((2, 3))     # create (row, col, dim) sized matrix with 0-initialization\n",
    "d3 = np.empty((2, 3, 3))  # create (row, col, dim) sized empty matrix\n",
    "\n",
    "\"\"\"\n",
    "    info of ndarray\n",
    "\"\"\"\n",
    "data = np.random.randn(2, 3)"
   ]
  },
  {
   "cell_type": "code",
   "execution_count": null,
   "metadata": {},
   "outputs": [],
   "source": [
    "print(\n",
    "    f\"\"\"\n",
    "ex1:\n",
    "{d1}\n",
    "ex2:\n",
    "{d2}\n",
    "ex3:\n",
    "{d3} \n",
    "    \"\"\"\n",
    ")\n",
    "print(\n",
    "    f\"\"\"\n",
    "ndarray:\n",
    "{data}\n",
    "matrix size: {data.shape}\n",
    "matrix elements dtype: {data.dtype}\n",
    "matrix dimension: {data.ndim}\n",
    "    \"\"\"\n",
    "    )"
   ]
  },
  {
   "attachments": {},
   "cell_type": "markdown",
   "metadata": {},
   "source": [
    "---\n",
    "### Indexing and Slicing\n",
    "주의사항\n",
    "- [a:b]는 a부터 b-1까지임!\n",
    "- memory cost를 낮추기 위해 view라는 형태의 reference를 pointing하는 식으로 슬라이싱이 일어나는데, 이러한 특징 때문에 슬라이싱 파트를 수정하면 원본에도 변화가 반영됨!\n",
    "\n",
    "Boolean indexing\n",
    "- 조건에 대해 `True`인 경우만 인덱싱\n",
    "- 조건은 여러 개가 될 수 있음!\n",
    "\n",
    "Fancy indexing\n",
    "- double square brackets `[[]]`로 명시\n",
    "- 원하는 순서로 행을 인덱싱하고 싶을 때\n",
    "- 원하는 위치의 원소들을 인덱싱하고 싶을 때"
   ]
  },
  {
   "cell_type": "code",
   "execution_count": null,
   "metadata": {},
   "outputs": [],
   "source": [
    "import numpy as np\n",
    "\n",
    "\"\"\"\n",
    "    Slicing\n",
    "\"\"\"\n",
    "arr1 = np.array([[1, 2, 3, 4, 5], [5, 4, 3, 2, 1]])\n",
    "print(arr1[0][1:3])\n",
    "arr1[0][1:3] = 0\n",
    "print(arr1)"
   ]
  },
  {
   "cell_type": "code",
   "execution_count": null,
   "metadata": {},
   "outputs": [],
   "source": [
    "names = np.array(['Bob', 'Joe', 'Will', 'Bob', 'Will', 'Joe', 'Joe'])\n",
    "data = np.random.randn(7, 4)\n",
    "\n",
    "print(names == 'Bob')\n",
    "print(data)\n",
    "print(data[names == 'Bob'])\n",
    "print(data[names == 'Bob', 2:])\n",
    "\n",
    "print(data > 0)\n",
    "data[data > 0] = 0\n",
    "print(data)"
   ]
  },
  {
   "cell_type": "code",
   "execution_count": null,
   "metadata": {},
   "outputs": [],
   "source": [
    "\"\"\"\n",
    "    Fancy 1\n",
    "\"\"\"\n",
    "arr1 = np.empty((8, 4))\n",
    "for i in range(8):\n",
    "    arr1[i] = i\n",
    "print(arr1)\n",
    "print(arr1[[7,1,3]])    # with double []\n",
    "print(arr1[[-1, -2, -3]])"
   ]
  },
  {
   "cell_type": "code",
   "execution_count": null,
   "metadata": {},
   "outputs": [],
   "source": [
    "\"\"\"\n",
    "    Fancy 2\n",
    "\"\"\"\n",
    "arr2 = np.arange(32).reshape((8,4))\n",
    "print(arr2)\n",
    "print(arr2[[1, 3, 5, 7], [0, 1, 2, 3]])\n",
    "# [행 좌표 i], [열 좌표 j] => a_{ij}"
   ]
  },
  {
   "attachments": {},
   "cell_type": "markdown",
   "metadata": {},
   "source": [
    "---\n",
    "### Conditional logic\n",
    "Vectorization 방식을 활용한 빠른 속도의 조건 연산\n",
    "- Vectorization: 한 번에 여러 개의 데이터를 처리\n",
    "- `where` 키워드 사용"
   ]
  },
  {
   "cell_type": "code",
   "execution_count": null,
   "metadata": {},
   "outputs": [],
   "source": [
    "import numpy as np\n",
    "\n",
    "\"\"\"\n",
    "    where 키워드\n",
    "\"\"\"\n",
    "xarr = np.array([1.1, 1.2, 1.3, 1.4, 1.5])\n",
    "yarr = np.array([2.1, 2.2, 2.3, 2.4, 2.5])\n",
    "cond = np.array([True, False, False, True, False])\n",
    "\n",
    "res1 = np.where(cond, yarr, xarr)\n",
    "# cond True  => select an element of yarr\n",
    "# cond False => select an element of xarr\n",
    "print(res1)\n",
    "\n",
    "\"\"\"\n",
    "    where를 활용한 broadcasting\n",
    "\"\"\"\n",
    "arr = np.random.randn(4, 4)\n",
    "print(arr)\n",
    "res2 = np.where(arr > 0, 1, -1)\n",
    "print(res2)"
   ]
  },
  {
   "attachments": {},
   "cell_type": "markdown",
   "metadata": {},
   "source": [
    "---\n",
    "### Mathematical and Statistical Methods\n",
    "\n",
    "`axis` 키워드\n",
    "- `axis=0`: column\n",
    "- `aixs=1`: row\n",
    "- \"`axis=`\" 생략 후, 숫자만 적어도 됨\n",
    "- `axis` 미설정 시, array 전체에 대해 연산 수행\n",
    "\n",
    "Boolean array 활용\n",
    "- `False`는 `0`, `True`는 `1`임을 활용\n",
    "- 조건이 `True`인 항목 컨트롤"
   ]
  },
  {
   "cell_type": "code",
   "execution_count": null,
   "metadata": {},
   "outputs": [],
   "source": [
    "import numpy as np\n",
    "\n",
    "\"\"\"\n",
    "    some statistical methods\n",
    "\"\"\"\n",
    "arr1 = np.random.randn(5, 4)\n",
    "print(arr1)\n",
    "print(arr1.sum(), arr1.mean(), arr1.max(), arr1.std())"
   ]
  },
  {
   "cell_type": "code",
   "execution_count": null,
   "metadata": {},
   "outputs": [],
   "source": [
    "\"\"\"\n",
    "    axis examples\n",
    "\"\"\"\n",
    "print(arr1.sum(axis=0), arr1.sum(axis=1))"
   ]
  },
  {
   "cell_type": "code",
   "execution_count": null,
   "metadata": {},
   "outputs": [],
   "source": [
    "\"\"\"\n",
    "    for boolean arrays\n",
    "\"\"\"\n",
    "print((arr > 0).sum())  # 조건 True인 항목 개수 카운트"
   ]
  },
  {
   "attachments": {},
   "cell_type": "markdown",
   "metadata": {},
   "source": [
    "---\n",
    "### Sorting\n",
    "`axis` 키워드 사용 가능\n",
    "- 인덱싱을 활용하면 좀 더 특정적으로 sorting 가능\n",
    "\n",
    "백분율에 따른 특정 데이터도 수집 가능\n",
    "- sorting과 인덱싱 활용"
   ]
  },
  {
   "cell_type": "code",
   "execution_count": null,
   "metadata": {},
   "outputs": [],
   "source": [
    "import numpy as np\n",
    "\n",
    "\"\"\"\n",
    "    sorting basic\n",
    "\"\"\"\n",
    "arr1 = np.random.randn(5, 3)\n",
    "arr1.sort()\n",
    "print(arr1)\n",
    "arr1.sort(axis=0)\n",
    "print(arr1)\n",
    "arr1.sort(axis=1)\n",
    "print(arr1)\n",
    "\n",
    "arr2 = np.random.randn(5, 3)\n",
    "arr2[:, 1].sort()   # 모든 행, 1번 열 정렬\n",
    "print(arr2)"
   ]
  },
  {
   "cell_type": "code",
   "execution_count": null,
   "metadata": {},
   "outputs": [],
   "source": [
    "\"\"\"\n",
    "    백분율\n",
    "\"\"\"\n",
    "arr = np.random.randn(1000)\n",
    "arr.sort()\n",
    "hightest_5p = arr[int(len(arr)*0.05)]   # 상위 5퍼센트의 마지막은 누구?\n",
    "print(hightest_5p)"
   ]
  }
 ],
 "metadata": {
  "kernelspec": {
   "display_name": "Python 3",
   "language": "python",
   "name": "python3"
  },
  "language_info": {
   "codemirror_mode": {
    "name": "ipython",
    "version": 3
   },
   "file_extension": ".py",
   "mimetype": "text/x-python",
   "name": "python",
   "nbconvert_exporter": "python",
   "pygments_lexer": "ipython3",
   "version": "3.9.13"
  },
  "orig_nbformat": 4
 },
 "nbformat": 4,
 "nbformat_minor": 2
}
